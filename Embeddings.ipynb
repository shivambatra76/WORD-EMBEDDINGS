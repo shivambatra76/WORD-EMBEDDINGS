{
 "cells": [
  {
   "cell_type": "markdown",
   "metadata": {},
   "source": [
    "## Install these dependencies"
   ]
  },
  {
   "cell_type": "code",
   "execution_count": null,
   "metadata": {},
   "outputs": [],
   "source": [
    "# pip install nltk\n",
    "# pip install  gensim"
   ]
  },
  {
   "cell_type": "markdown",
   "metadata": {},
   "source": [
    "## Reading the DATASET"
   ]
  },
  {
   "cell_type": "code",
   "execution_count": 1,
   "metadata": {},
   "outputs": [],
   "source": [
    "text=open(\"final_dataset.txt\").read()"
   ]
  },
  {
   "cell_type": "markdown",
   "metadata": {},
   "source": [
    "## Processing the dataset"
   ]
  },
  {
   "cell_type": "code",
   "execution_count": 4,
   "metadata": {},
   "outputs": [],
   "source": [
    "import re \n",
    "from nltk.tokenize import sent_tokenize, word_tokenize \n",
    "\n",
    "from nltk.corpus import stopwords\n",
    "\n",
    "\n",
    "def preprocessing(text):\n",
    "    '''Cleaning of the text'''\n",
    "    ## lowering the text so same words are not treated differently.\n",
    "    lowered = text.lower()\n",
    "    \n",
    "    newString = re.sub(r\"'s\\b\",\"\",lowered)\n",
    "    \n",
    "    # remove punctuations\n",
    "    newString = re.sub(\"[^a-zA-Z]\", \" \", newString)\n",
    "    \n",
    "    # remove white space\n",
    "    COMBINE_WHITESPACE = re.compile(r\"\\s+\")\n",
    "\n",
    "    filtered_text = COMBINE_WHITESPACE.sub(\" \", newString).strip()\n",
    "    return filtered_text.split(\" \")\n",
    "\n",
    "\n",
    "def remove_stopwords(processed_text):\n",
    "    ''' We remove stopwords from the text '''\n",
    "    stop_words = set(stopwords.words('english'))\n",
    "    removed_stopwords=[]\n",
    "    for w in processed_text: \n",
    "        if w not in stop_words: \n",
    "            removed_stopwords.append(w)\n",
    "    return removed_stopwords\n",
    "\n",
    "def process(text):\n",
    "    '''Using map to speed up the process'''\n",
    "    preprocessed_text=list(map(preprocessing,sent_tokenize(text)))\n",
    "    removed_stopwords=list(map(remove_stopwords,preprocessed_text))\n",
    "    return removed_stopwords\n"
   ]
  },
  {
   "cell_type": "code",
   "execution_count": 3,
   "metadata": {},
   "outputs": [],
   "source": [
    "processed_sentences=process(text)"
   ]
  },
  {
   "cell_type": "markdown",
   "metadata": {},
   "source": [
    "## Trainiing the model"
   ]
  },
  {
   "cell_type": "code",
   "execution_count": 5,
   "metadata": {},
   "outputs": [],
   "source": [
    "from gensim.models import Word2Vec"
   ]
  },
  {
   "cell_type": "code",
   "execution_count": 6,
   "metadata": {},
   "outputs": [],
   "source": [
    "##32 is the size of vector we want and  min_count will ignore all words with total frequency lower than this.\n",
    "model=Word2Vec(processed_sentences,size=32,min_count=1) "
   ]
  },
  {
   "cell_type": "code",
   "execution_count": 7,
   "metadata": {
    "scrolled": true
   },
   "outputs": [
    {
     "name": "stderr",
     "output_type": "stream",
     "text": [
      "C:\\Users\\GSC-30397\\AppData\\Local\\Continuum\\anaconda3\\lib\\site-packages\\ipykernel_launcher.py:3: DeprecationWarning: Call to deprecated `most_similar` (Method will be removed in 4.0.0, use self.wv.most_similar() instead).\n",
      "  This is separate from the ipykernel package so we can avoid doing imports until\n"
     ]
    },
    {
     "data": {
      "text/plain": [
       "[('controlled', 0.9989014863967896),\n",
       " ('originally', 0.9988721609115601),\n",
       " ('finally', 0.9988323450088501),\n",
       " ('ebay', 0.998799204826355),\n",
       " ('failure', 0.9986884593963623),\n",
       " ('approved', 0.9986734390258789),\n",
       " ('eventually', 0.9986013770103455),\n",
       " ('payment', 0.9985873699188232),\n",
       " ('boom', 0.998572051525116),\n",
       " ('label', 0.9985622763633728)]"
      ]
     },
     "execution_count": 7,
     "metadata": {},
     "output_type": "execute_result"
    }
   ],
   "source": [
    "# You can also use inbuilt method most_similar to find all the similar to input word\n",
    "#note that these will be totally based on the training data and not a generalized similarity like in English language.\n",
    "model.most_similar(['loan'])"
   ]
  },
  {
   "cell_type": "code",
   "execution_count": 8,
   "metadata": {},
   "outputs": [
    {
     "name": "stderr",
     "output_type": "stream",
     "text": [
      "C:\\Users\\GSC-30397\\AppData\\Local\\Continuum\\anaconda3\\lib\\site-packages\\ipykernel_launcher.py:4: DeprecationWarning: Call to deprecated `__getitem__` (Method will be removed in 4.0.0, use self.wv.__getitem__() instead).\n",
      "  after removing the cwd from sys.path.\n"
     ]
    }
   ],
   "source": [
    "## WE are just iterating over each word in our vocabulary and storing the vector representation of word in a list\n",
    "embeddings=[]\n",
    "for key in model.wv.vocab.keys():\n",
    "    embedding=model[key]\n",
    "    embeddings.append(embedding)"
   ]
  },
  {
   "cell_type": "code",
   "execution_count": 9,
   "metadata": {},
   "outputs": [
    {
     "name": "stdout",
     "output_type": "stream",
     "text": [
      "Size of Vocab--> 27758\n"
     ]
    }
   ],
   "source": [
    "print(\"Size of Vocab-->\",len(embeddings))"
   ]
  },
  {
   "cell_type": "markdown",
   "metadata": {},
   "source": [
    "## Dimentionality reduction"
   ]
  },
  {
   "cell_type": "code",
   "execution_count": 80,
   "metadata": {},
   "outputs": [],
   "source": [
    "# Since we are dealing with a vector of size 32 we cant visualize it on a graph so we need to convert that 32 dimension vector \n",
    "# to a smalle dimension like a 2 dimension vector . We can use PCA for this which a pretty common technique to do it."
   ]
  },
  {
   "cell_type": "code",
   "execution_count": 10,
   "metadata": {},
   "outputs": [],
   "source": [
    "from sklearn.decomposition import PCA"
   ]
  },
  {
   "cell_type": "code",
   "execution_count": 11,
   "metadata": {},
   "outputs": [],
   "source": [
    "# n_components is the size of output vector we are expecting.\n",
    "pca=PCA(n_components=2)\n",
    "downsized_embeddings=pca.fit_transform(embeddings)"
   ]
  },
  {
   "cell_type": "code",
   "execution_count": 12,
   "metadata": {},
   "outputs": [],
   "source": [
    "## list of all the words in the vocab . wv.vocab is another inbuilt property we can use. \n",
    "words = list(model.wv.vocab)"
   ]
  },
  {
   "cell_type": "markdown",
   "metadata": {},
   "source": [
    "## Ploting word embeddings"
   ]
  },
  {
   "cell_type": "code",
   "execution_count": 13,
   "metadata": {},
   "outputs": [],
   "source": [
    "from matplotlib import pyplot"
   ]
  },
  {
   "cell_type": "code",
   "execution_count": 15,
   "metadata": {},
   "outputs": [
    {
     "data": {
      "image/png": "[encoded data removed]",
      "text/plain": [
       "<Figure size 432x288 with 1 Axes>"
      ]
     },
     "metadata": {
      "needs_background": "light"
     },
     "output_type": "display_data"
    }
   ],
   "source": [
    "pyplot.scatter(downsized_embeddings[:20, 0],downsized_embeddings[:20, 1])\n",
    "for i, word in enumerate(words[:20]):\n",
    "    pyplot.annotate(word, xy=(downsized_embeddings[i, 0], downsized_embeddings[i, 1]))\n",
    "pyplot.show()"
   ]
  },
  {
   "cell_type": "code",
   "execution_count": null,
   "metadata": {},
   "outputs": [],
   "source": []
  }
 ],
 "metadata": {
  "kernelspec": {
   "display_name": "Python 3",
   "language": "python",
   "name": "python3"
  },
  "language_info": {
   "codemirror_mode": {
    "name": "ipython",
    "version": 3
   },
   "file_extension": ".py",
   "mimetype": "text/x-python",
   "name": "python",
   "nbconvert_exporter": "python",
   "pygments_lexer": "ipython3",
   "version": "3.7.3"
  }
 },
 "nbformat": 4,
 "nbformat_minor": 2
}
